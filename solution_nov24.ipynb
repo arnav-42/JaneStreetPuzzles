{
 "cells": [
  {
   "cell_type": "markdown",
   "id": "d34738b1-7fb0-4f17-9db5-bc7c82352d01",
   "metadata": {},
   "source": [
    "### Jane Street Puzzle: Beside the Point\n",
    "\n",
    "I solved this puzzle from Jane Street earned a spot on their leaderboard all the way back in November, but I procrastinated posting my solution in detail until now. This notebook explains my approach to solving the puzzle. I ran a simulation first to have a good idea of the solution, but since the solution required at least 10 decimal places, an analytical approach was needed to place on the leaderboard. Below, I've explained the problem first, explained my simulation code, and then finally my mathematical solution.\n",
    "\n",
    "- **Here's the official puzzle:** [Beside the Point](https://www.janestreet.com/puzzles/beside-the-point-index/)\n",
    "- **And here's my name on the leaderboard:** [Solution & Leaderboard](https://www.janestreet.com/puzzles/beside-the-point-solution/)\n",
    "\n"
   ]
  },
  {
   "cell_type": "code",
   "execution_count": 1,
   "id": "f71af9c8-eebd-4e2e-984c-56c20a84b17f",
   "metadata": {},
   "outputs": [],
   "source": [
    "import numpy as np\n",
    "from scipy.integrate import dblquad"
   ]
  },
  {
   "cell_type": "markdown",
   "id": "5d6da536-d8c0-4317-8778-4d792dce2410",
   "metadata": {},
   "source": [
    "#### Problem Overview\n",
    "\n",
    "Consider the unit square $[0,1]^2$. We can pick two points uniformly at random:\n",
    "- **A blue point:** $(x_1, y_1)$\n",
    "- **And a red point:** $(x_2, y_2)$\n",
    "\n",
    "We want the probability that there exists a point *on the boundary of the square* that is equidistant \n",
    "to these two chosen points. By symmetry, I'll focus on just one particular edge (say, the bottom edge) \n",
    "and one particular subset of blue points. Specifically, assume the blue point lies in the portion of \n",
    "$[0,1]^2$ for which the bottom side is the closest edge. This subset has area $\\tfrac{1}{4}$ of the entire square.\n",
    "\n"
   ]
  },
  {
   "cell_type": "markdown",
   "id": "06036e9e-9f0e-4393-9b5e-a6bff7f60b24",
   "metadata": {},
   "source": [
    "\n",
    "#### Equidistance Condition\n",
    "\n",
    "For the bottom edge to harbor a point equidistant to both $(x_1, y_1)$ and $(x_2, y_2)$, consider a candidate point $(a, 0)$ on the bottom side. The equidistance requirement is:\n",
    "\n",
    "$$\n",
    "(x_1 - a)^2 + y_1^2 \\;=\\; (x_2 - a)^2 + y_2^2.\n",
    "$$\n",
    "\n",
    "After expanding and simplifying, I can solve for $a$:\n",
    "\n",
    "$$\n",
    "a \\;=\\; \\frac{x_2^2 - x_1^2 + y_2^2 - y_1^2}{2 \\,\\bigl(x_2 - x_1\\bigr)}.\n",
    "$$\n",
    "\n",
    "For the pair $(x_1, y_1)$ and $(x_2, y_2)$ to be *successful*, the value of $a$ must lie between 0 and 1, \n",
    "i.e., $0 \\le a \\le 1$.\n"
   ]
  },
  {
   "cell_type": "markdown",
   "id": "0c472873-6d8a-457e-8201-3d460e5d2734",
   "metadata": {},
   "source": [
    "### Vectorized Simulation Approach\n",
    "\n",
    "To estimate this probability numerically:\n",
    "\n",
    "1. I restrict blue points to the region where the bottom edge is indeed the closest edge. \n",
    "   By symmetry, this region occupies $\\tfrac{1}{4}$ of the unit square. I'm generating these points via rejection sampling.\n",
    "2. I pick red points uniformly from the entire unit square $[0,1]^2$.\n",
    "3. For each pair, I compute the candidate $a$ and check if $0 \\le a \\le 1$.\n",
    "4. The fraction of successful pairs (out of all valid pairs) directly gives the conditional probability, \n",
    "   which, due to symmetry, coincides with the overall probability we're looking for.\n",
    "\n",
    "Below is a vectorized implementation of these steps in NumPy.\n"
   ]
  },
  {
   "cell_type": "code",
   "execution_count": 2,
   "id": "7afd42f1-9f9d-417d-b086-ccef0f9bf3ce",
   "metadata": {},
   "outputs": [],
   "source": [
    "def vectorized_simulation(num_samples: int) -> float:\n",
    "    # generate blue points (bottom-closest region) via rejection sampling.\n",
    "    blue = []\n",
    "    while len(blue) < num_samples:\n",
    "        pts = np.random.rand(num_samples, 2)\n",
    "        valid = (\n",
    "            (pts[:, 1] <= 0.5) &    # y ≤ 0.5\n",
    "            (pts[:, 1] <= pts[:, 0]) &    # y ≤ x\n",
    "            (pts[:, 1] <= 1 - pts[:, 0])  # y ≤ 1 - x\n",
    "        )\n",
    "        blue.extend(pts[valid].tolist())\n",
    "    blue = np.array(blue[:num_samples])\n",
    "    \n",
    "    # generate red points uniformly in [0,1]^2.\n",
    "    red = np.random.rand(num_samples, 2)\n",
    "    \n",
    "    # exclude pairs where x2 ≈ x1 to avoid division by zero in 'a'.\n",
    "    mask = ~np.isclose(red[:, 0], blue[:, 0], atol=1e-8)\n",
    "    \n",
    "    a_vals = (\n",
    "        (red[mask, 0]**2 - blue[mask, 0]**2 + red[mask, 1]**2 - blue[mask, 1]**2)\n",
    "        / (2 * (red[mask, 0] - blue[mask, 0]))\n",
    "    )\n",
    "    \n",
    "    successes = np.sum((a_vals >= 0) & (a_vals <= 1))\n",
    "    probability = successes / np.sum(mask)\n",
    "    \n",
    "    return probability\n"
   ]
  },
  {
   "cell_type": "markdown",
   "id": "1bf18180-962e-4f41-bffa-ed72e41f5506",
   "metadata": {},
   "source": [
    "#### Simulation Results\n",
    "\n",
    "Now, I'll run the simulation with a large sample size to approximate this probability. \n",
    "Since the simulation draws a pretty large number of points, it should provide a \n",
    "decently accurate numerical estimate.\n"
   ]
  },
  {
   "cell_type": "code",
   "execution_count": 3,
   "id": "07e96d33-e6f7-45ed-a11a-9ba969b23416",
   "metadata": {},
   "outputs": [
    {
     "name": "stdout",
     "output_type": "stream",
     "text": [
      "Estimated Probability from Simulation: 0.4916058825\n"
     ]
    }
   ],
   "source": [
    "num_samples = 10**6  # one million samples\n",
    "estimated_probability = vectorized_simulation(num_samples)\n",
    "print(f\"Estimated Probability from Simulation: {estimated_probability:.10f}\")"
   ]
  },
  {
   "cell_type": "markdown",
   "id": "13e0450a-4430-4f8d-a053-bea0e68ffc51",
   "metadata": {},
   "source": [
    "### Analytical Solution Explanation\n",
    "\n",
    "In addition to the Monte Carlo simulation, we can get an exact (or exact-enough) solution by examining the geometry of the problem in detail.\n",
    "\n",
    "#### Setup and Geometry\n",
    "\n",
    "- WLOG, restrict the first (blue) point to the region of the unit square where the bottom edge is the nearest boundary. This region is one-quarter of the square.\n",
    "- For a fixed blue point $(x_1, y_1)$, I'm looking for all $(x_2, y_2)$ in $[0,1]^2$ for which there exists a point on the bottom edge $(a,0)$ equidistant to both.\n",
    "- Geometrically, when $(x_1, y_1)$ is fixed, the set of valid $(x_2, y_2)$ is the symmetric difference of two circles:\n",
    "   - *Circle 1*: center $(0,0)$, radius $r_1 = \\sqrt{x_1^2 + y_1^2}$.\n",
    "   - *Circle 2*: center $(1,0)$, radius $r_2 = \\sqrt{(1 - x_1)^2 + y_1^2}$.\n",
    "\n",
    "#### Analytical Calculation of the Region\n",
    "\n",
    "- Each circle, if considered alone within the unit square, cuts out a quarter-circle area relevant to valid positions for $(x_2, y_2)$. However, where the two circles overlap, I have to subtract the intersection to avoid double-counting.\n",
    "\n",
    "- The overlap of the two circular arcs is determined by chord geometry and the angles subtended by the radii. These angles can be computed using inverse cosine relationships. The area of intersection then comprises specific circular sectors minus the triangular-like segments formed by the chord.\n",
    "\n",
    "- After determining the valid red-point area for each fixed blue point, I'll integrate over all possible $(x_1, y_1)$ within the restricted one-quarter region. Symbolically,\n",
    "$$\n",
    "\\text{Probability} \n",
    "\\;=\\;\n",
    "4 \\,\\times\n",
    "\\int_{\\text{blue region}} \n",
    "\\frac{\\text{Area of valid red points}}{1}\n",
    "\\; d(x_1, y_1),\n",
    "$$\n",
    "where the factor of 4 is copmensating for having confined the blue point to one-quarter of the unit square."
   ]
  },
  {
   "cell_type": "code",
   "execution_count": 4,
   "id": "4d5286ae-f8d2-4d12-9778-b7835572e503",
   "metadata": {},
   "outputs": [],
   "source": [
    "# distance functions\n",
    "def r1(x, y):\n",
    "    return np.sqrt(x**2 + y**2)\n",
    "\n",
    "def r2(x, y):\n",
    "    return np.sqrt((1 - x)**2 + y**2)\n",
    "\n",
    "# helper functions for computing angles for the overlapping quarter-circles\n",
    "def c_ad(x, y):\n",
    "    rr1 = r1(x, y)\n",
    "    rr2 = r2(x, y)\n",
    "    if rr1 == 0:\n",
    "        return 0\n",
    "    arg = (rr1**2 + 1 - rr2**2) / (2 * rr1)\n",
    "    arg = np.clip(arg, -1, 1)\n",
    "    return 2 * np.arccos(arg)\n",
    "\n",
    "def c_bd(x, y):\n",
    "    rr1 = r1(x, y)\n",
    "    rr2 = r2(x, y)\n",
    "    if rr2 == 0:\n",
    "        return 0\n",
    "    arg = (rr2**2 + 1 - rr1**2) / (2 * rr2)\n",
    "    arg = np.clip(arg, -1, 1)\n",
    "    return 2 * np.arccos(arg)\n",
    "\n",
    "# intersection area of the two quatrer-circles\n",
    "def intersection_area(x, y):\n",
    "    rr1 = r1(x, y)\n",
    "    rr2 = r2(x, y)\n",
    "    if rr1 == 0 or rr2 == 0:\n",
    "        return 0\n",
    "    cad = c_ad(x, y)\n",
    "    cbd = c_bd(x, y)\n",
    "    return 0.5 * (rr1**2 * (cad - np.sin(cad)) + rr2**2 * (cbd - np.sin(cbd)))\n",
    "\n",
    "# valid red point area for a given blue point x y\n",
    "def A(x, y):\n",
    "    return (np.pi * r1(x, y)**2)/4 + (np.pi * r2(x, y)**2)/4 - intersection_area(x, y)\n"
   ]
  },
  {
   "cell_type": "code",
   "execution_count": 5,
   "id": "d0aa772f-6fd7-4b6d-888b-00743985bf7c",
   "metadata": {},
   "outputs": [
    {
     "name": "stdout",
     "output_type": "stream",
     "text": [
      "Actual Probability: 0.491407578838308\n"
     ]
    }
   ],
   "source": [
    "# integration\n",
    "I1, err1 = dblquad(\n",
    "    lambda yy, xx: A(xx, yy),\n",
    "    0, 0.5,      # xx in [0, 0.5]\n",
    "    lambda xx: 0,\n",
    "    lambda xx: xx\n",
    ")\n",
    "\n",
    "I2, err2 = dblquad(\n",
    "    lambda yy, xx: A(xx, yy),\n",
    "    0.5, 1,      # xx in [0.5, 1]\n",
    "    lambda xx: 0,\n",
    "    lambda xx: 1 - xx\n",
    ")\n",
    "\n",
    "P = 4 * (I1 + I2)\n",
    "print(\"Actual Probability:\", P)\n"
   ]
  },
  {
   "cell_type": "markdown",
   "id": "2fd3584f-737a-494f-8d1b-567f363a6ef7",
   "metadata": {},
   "source": [
    "\n",
    "#### Final Probability\n",
    "\n",
    "From this, we get that:\n",
    "$$\n",
    "\\text{Probability} \n",
    "\\;=\\; \n",
    "\\frac{1 + 2\\pi - \\ln(4)}{12}\n",
    "\\;\\approx\\; \n",
    "0.4914075788.\n",
    "$$\n",
    "\n",
    "Therefore, both the analytical integration and the numerical simulation agree on the final probability of roughly $0.4914$.\n"
   ]
  },
  {
   "cell_type": "markdown",
   "id": "5bb7ba2b-abbe-4474-b5e5-bfab9360cb56",
   "metadata": {},
   "source": [
    "Contact me: akalekar@purdue.edu"
   ]
  }
 ],
 "metadata": {
  "kernelspec": {
   "display_name": "Python 3 (ipykernel)",
   "language": "python",
   "name": "python3"
  },
  "language_info": {
   "codemirror_mode": {
    "name": "ipython",
    "version": 3
   },
   "file_extension": ".py",
   "mimetype": "text/x-python",
   "name": "python",
   "nbconvert_exporter": "python",
   "pygments_lexer": "ipython3",
   "version": "3.12.1"
  }
 },
 "nbformat": 4,
 "nbformat_minor": 5
}
